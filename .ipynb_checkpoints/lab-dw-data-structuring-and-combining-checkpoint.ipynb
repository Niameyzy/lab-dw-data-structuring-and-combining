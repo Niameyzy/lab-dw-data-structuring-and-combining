{
 "cells": [
  {
   "cell_type": "markdown",
   "id": "25d7736c-ba17-4aff-b6bb-66eba20fbf4e",
   "metadata": {
    "id": "25d7736c-ba17-4aff-b6bb-66eba20fbf4e"
   },
   "source": [
    "# Lab | Data Structuring and Combining Data"
   ]
  },
  {
   "cell_type": "markdown",
   "id": "a2cdfc70-44c8-478c-81e7-2bc43fdf4986",
   "metadata": {
    "id": "a2cdfc70-44c8-478c-81e7-2bc43fdf4986"
   },
   "source": [
    "## Challenge 1: Combining & Cleaning Data\n",
    "\n",
    "In this challenge, we will be working with the customer data from an insurance company, as we did in the two previous labs. The data can be found here:\n",
    "- https://raw.githubusercontent.com/data-bootcamp-v4/data/main/file1.csv\n",
    "\n",
    "But this time, we got new data, which can be found in the following 2 CSV files located at the links below.\n",
    "\n",
    "- https://raw.githubusercontent.com/data-bootcamp-v4/data/main/file2.csv\n",
    "- https://raw.githubusercontent.com/data-bootcamp-v4/data/main/file3.csv\n",
    "\n",
    "Note that you'll need to clean and format the new data.\n",
    "\n",
    "Observation:\n",
    "- One option is to first combine the three datasets and then apply the cleaning function to the new combined dataset\n",
    "- Another option would be to read the clean file you saved in the previous lab, and just clean the two new files and concatenate the three clean datasets"
   ]
  },
  {
   "cell_type": "code",
   "execution_count": 2,
   "id": "fb8e782f-a811-42a3-ac4c-609f578c88f9",
   "metadata": {},
   "outputs": [],
   "source": [
    "import pandas as pd "
   ]
  },
  {
   "cell_type": "code",
   "execution_count": 3,
   "id": "9096f8cd-1272-463d-85c2-3e32d63be835",
   "metadata": {},
   "outputs": [],
   "source": [
    "pd.set_option('display.max_columns', None) \n",
    "\n",
    "import warnings\n",
    "warnings.filterwarnings('ignore') # ignore warnings"
   ]
  },
  {
   "cell_type": "code",
   "execution_count": 4,
   "id": "492d06e3-92c7-4105-ac72-536db98d3244",
   "metadata": {
    "id": "492d06e3-92c7-4105-ac72-536db98d3244"
   },
   "outputs": [],
   "source": [
    "url='https://raw.githubusercontent.com/data-bootcamp-v4/data/main/file1.csv'\n",
    "url1='https://raw.githubusercontent.com/data-bootcamp-v4/data/main/file2.csv'\n",
    "url2='https://raw.githubusercontent.com/data-bootcamp-v4/data/main/file3.csv'\n"
   ]
  },
  {
   "cell_type": "code",
   "execution_count": 5,
   "id": "9ebd25f6-1f98-4201-9a24-93970a189fb4",
   "metadata": {},
   "outputs": [],
   "source": [
    "df=pd.read_csv(url)\n",
    "df1=pd.read_csv(url1)\n",
    "df2=pd.read_csv(url2)"
   ]
  },
  {
   "cell_type": "markdown",
   "id": "b913200e-5ece-45a1-887e-56215520f4f1",
   "metadata": {},
   "source": [
    "columns are not in the same orders "
   ]
  },
  {
   "cell_type": "code",
   "execution_count": 6,
   "id": "d5cfa5ca-69e0-4f16-8c51-08bdcdedd1a3",
   "metadata": {},
   "outputs": [],
   "source": [
    "df_copie=df.copy()\n",
    "df_copie.columns = [column.lower().replace(\" \", \"_\") for column in df_copie.columns]\n",
    "df_copie.rename(columns={'st': 'state'}, inplace=True) # rename column st by state"
   ]
  },
  {
   "cell_type": "code",
   "execution_count": 7,
   "id": "13bd3bd7-605a-4973-91dc-bee7244382e1",
   "metadata": {},
   "outputs": [],
   "source": [
    "df_copie1=df1.copy()\n",
    "df_copie1.columns = [column.lower().replace(\" \", \"_\") for column in df_copie1.columns]\n",
    "df_copie1.rename(columns={'st': 'state'}, inplace=True) # rename column st by state"
   ]
  },
  {
   "cell_type": "code",
   "execution_count": 8,
   "id": "a95ceef1-f64a-4c86-b3b0-faa21ad100ba",
   "metadata": {},
   "outputs": [],
   "source": [
    "df_copie2=df2.copy()\n",
    "df_copie2.columns = [column.lower().replace(\" \", \"_\") for column in df_copie2.columns]"
   ]
  },
  {
   "cell_type": "code",
   "execution_count": 9,
   "id": "5bc2521f-8580-4eb6-93dd-c30e3f53fe94",
   "metadata": {},
   "outputs": [],
   "source": [
    "# Re order the colonn of df_copie1 and df_copie2\n",
    "df_copie1=df_copie1.reindex(['customer', 'state', 'gender', 'education', 'customer_lifetime_value',\n",
    "       'income', 'monthly_premium_auto', 'number_of_open_complaints',\n",
    "       'policy_type', 'vehicle_class', 'total_claim_amount'],axis=1)"
   ]
  },
  {
   "cell_type": "code",
   "execution_count": 10,
   "id": "0bc8cd2d-3849-41fe-9d85-eed240815197",
   "metadata": {},
   "outputs": [],
   "source": [
    "df_copie2=df_copie2.reindex(['customer', 'state', 'gender', 'education', 'customer_lifetime_value',\n",
    "       'income', 'monthly_premium_auto', 'number_of_open_complaints',\n",
    "       'policy_type', 'vehicle_class', 'total_claim_amount'],axis=1)"
   ]
  },
  {
   "cell_type": "code",
   "execution_count": 11,
   "id": "b1b157ee-7e9b-46f6-9cc6-77b72181ea9a",
   "metadata": {},
   "outputs": [],
   "source": [
    "df_copie1[\"number_of_open_complaints\"]=[(str(complaint).split(\"/\")[1]) if pd.notnull(complaint) else complaint for complaint in df_copie1[\"number_of_open_complaints\"]]\n",
    "# splits it by \"/\" and  access to the index element  [1]\n",
    "df_copie1['customer_lifetime_value']= df_copie1['customer_lifetime_value'].str.rstrip(\"%\") # drop % in the right of string\n",
    "df_copie1[\"customer_lifetime_value\"] = df_copie1[\"customer_lifetime_value\"].astype(float)\n",
    "df_copie1['income'] = df_copie1['income'].astype(float)\n",
    "df_copie1['monthly_premium_auto'] = df_copie1['monthly_premium_auto'].astype(float)"
   ]
  },
  {
   "cell_type": "code",
   "execution_count": 12,
   "id": "99cf1cdf-c07b-4ac1-a4d1-c704be8de3cd",
   "metadata": {},
   "outputs": [],
   "source": [
    "df_copie1['number_of_open_complaints'] = df_copie1['number_of_open_complaints'].astype(int)"
   ]
  },
  {
   "cell_type": "code",
   "execution_count": 13,
   "id": "2c8cbe84-24d6-4a81-853e-2955a1682f57",
   "metadata": {},
   "outputs": [],
   "source": [
    "df_copie[\"number_of_open_complaints\"]=[(str(complaint).split(\"/\")[1]) if pd.notnull(complaint) else complaint for \n",
    "                                       complaint in df_copie[\"number_of_open_complaints\"]]\n",
    "# splits it by \"/\" and  access to the index element  [1]\n",
    "df_copie['customer_lifetime_value']= df_copie['customer_lifetime_value'].str.rstrip(\"%\") # drop % in the right of string\n",
    "df_copie[\"customer_lifetime_value\"] = df_copie[\"customer_lifetime_value\"].astype(float)"
   ]
  },
  {
   "cell_type": "code",
   "execution_count": 14,
   "id": "0ae68e12-9cd5-48f4-b828-23c2f35f44bf",
   "metadata": {},
   "outputs": [],
   "source": [
    "df_copie['number_of_open_complaints'] = df_copie['number_of_open_complaints'].apply(lambda complaint: int(complaint) if pd.notnull(complaint) else complaint)"
   ]
  },
  {
   "cell_type": "code",
   "execution_count": 15,
   "id": "6c2a0a86-dec2-4f95-bf06-c9d82b8a3611",
   "metadata": {},
   "outputs": [],
   "source": [
    "df_copie2['income'] = df_copie2['income'].astype(float)\n",
    "df_copie2['monthly_premium_auto'] = df_copie2['monthly_premium_auto'].astype(float)"
   ]
  },
  {
   "cell_type": "code",
   "execution_count": 16,
   "id": "e09efdf8-4464-4d9f-b467-98b2bea0ca31",
   "metadata": {},
   "outputs": [],
   "source": [
    "df_concat=pd.concat([df_copie,df_copie1,df_copie2], axis=0)"
   ]
  },
  {
   "cell_type": "code",
   "execution_count": 17,
   "id": "3e3f8979-e40a-4120-a927-80635388da6f",
   "metadata": {},
   "outputs": [],
   "source": [
    "df_concat['gender']= df_concat['gender'].replace('Femal','F')\n",
    "df_concat['gender']= df_concat['gender'].replace('female','F')\n",
    "df_concat['gender']= df_concat['gender'].replace('Male','M')"
   ]
  },
  {
   "cell_type": "code",
   "execution_count": 18,
   "id": "ebc7c350-f6e3-4ee0-b62b-7b857ab0bc9c",
   "metadata": {},
   "outputs": [],
   "source": [
    "df_concat.replace({'AZ':'Arizona',\n",
    "            'Cali':'California',\n",
    "            'WA':'Washington'}, inplace=True)"
   ]
  },
  {
   "cell_type": "code",
   "execution_count": 19,
   "id": "317c509b-0fcd-472b-8f7d-554ad0fc6cd1",
   "metadata": {},
   "outputs": [],
   "source": [
    "df_concat['education']=df_concat['education'].replace('Bachelors','Bachelor')"
   ]
  },
  {
   "cell_type": "code",
   "execution_count": 20,
   "id": "37923912-61d7-45f2-8cbf-59f391c3f4dd",
   "metadata": {},
   "outputs": [],
   "source": [
    "df_concat['vehicle_class']= df_concat['vehicle_class'].replace('Luxury Car','Luxury')\n",
    "df_concat['vehicle_class']= df_concat['vehicle_class'].replace('Luxury SUV','Luxury')"
   ]
  },
  {
   "cell_type": "code",
   "execution_count": 21,
   "id": "c24ad2c2-9fa4-4897-8d21-a7a843cbdbb4",
   "metadata": {},
   "outputs": [
    {
     "data": {
      "text/plain": [
       "customer                     2937\n",
       "state                        2937\n",
       "gender                       3059\n",
       "education                    2937\n",
       "customer_lifetime_value      2944\n",
       "income                       2937\n",
       "monthly_premium_auto         2937\n",
       "number_of_open_complaints    2937\n",
       "policy_type                  2937\n",
       "vehicle_class                2937\n",
       "total_claim_amount           2937\n",
       "dtype: int64"
      ]
     },
     "execution_count": 21,
     "metadata": {},
     "output_type": "execute_result"
    }
   ],
   "source": [
    "# count number of null values \n",
    "df_concat.isnull().sum() "
   ]
  },
  {
   "cell_type": "code",
   "execution_count": null,
   "id": "2e343a9a-1e83-4d3e-88dd-b92ceb836b8e",
   "metadata": {},
   "outputs": [],
   "source": [
    "df_concat.shape"
   ]
  },
  {
   "cell_type": "code",
   "execution_count": 37,
   "id": "63ed39ec-ba5a-4490-94ad-c852bf14fdbd",
   "metadata": {},
   "outputs": [],
   "source": [
    "#drop rows with null values \n",
    "df_final= df_concat=df_concat.dropna(how='all')"
   ]
  },
  {
   "cell_type": "code",
   "execution_count": 43,
   "id": "fbdc4828-74b3-41d3-a068-ec4144cc6353",
   "metadata": {},
   "outputs": [],
   "source": [
    "# fill null values Forward fill\n",
    "df_concat[\"gender\"] = df_concat[\"gender\"].fillna(method=\"ffill\")\n",
    "df_concat[\"customer_lifetime_value\"] = df_concat[\"customer_lifetime_value\"].fillna(method=\"ffill\")"
   ]
  },
  {
   "cell_type": "code",
   "execution_count": 47,
   "id": "5c377e78-d6a4-4e95-9b4d-12f12c0f7bd4",
   "metadata": {},
   "outputs": [],
   "source": [
    "df_concat= df_concat.fillna(method=\"bfill\", limit=1)"
   ]
  },
  {
   "cell_type": "code",
   "execution_count": 48,
   "id": "7e89ac53-7aa4-48bc-a00c-34cd44665106",
   "metadata": {},
   "outputs": [],
   "source": [
    "df_final= df_concat.drop_duplicates()"
   ]
  },
  {
   "cell_type": "code",
   "execution_count": null,
   "id": "c50e2608-6752-42ea-a1c2-1182aac431ed",
   "metadata": {},
   "outputs": [],
   "source": [
    "df_concat[\"gender\"] = df_concat[\"gender\"].fillna(method=\"ffill\")\n",
    "df_final= df_concat[\"customer_lifetime_value\"] = df_concat[\"customer_lifetime_value\"].fillna(method=\"ffill\")"
   ]
  },
  {
   "cell_type": "markdown",
   "id": "31b8a9e7-7db9-4604-991b-ef6771603e57",
   "metadata": {
    "id": "31b8a9e7-7db9-4604-991b-ef6771603e57"
   },
   "source": [
    "# Challenge 2: Structuring Data"
   ]
  },
  {
   "cell_type": "markdown",
   "id": "a877fd6d-7a0c-46d2-9657-f25036e4ca4b",
   "metadata": {
    "id": "a877fd6d-7a0c-46d2-9657-f25036e4ca4b"
   },
   "source": [
    "In this challenge, we will continue to work with customer data from an insurance company, but we will use a dataset with more columns, called marketing_customer_analysis.csv, which can be found at the following link:\n",
    "\n",
    "https://raw.githubusercontent.com/data-bootcamp-v4/data/main/marketing_customer_analysis_clean.csv\n",
    "\n",
    "This dataset contains information such as customer demographics, policy details, vehicle information, and the customer's response to the last marketing campaign. Our goal is to explore and analyze this data by performing data cleaning, formatting, and structuring."
   ]
  },
  {
   "cell_type": "code",
   "execution_count": 51,
   "id": "aa10d9b0-1c27-4d3f-a8e4-db6ab73bfd26",
   "metadata": {
    "id": "aa10d9b0-1c27-4d3f-a8e4-db6ab73bfd26"
   },
   "outputs": [],
   "source": [
    "url3='https://raw.githubusercontent.com/data-bootcamp-v4/data/main/marketing_customer_analysis_clean.csv'"
   ]
  },
  {
   "cell_type": "code",
   "execution_count": 53,
   "id": "99a14cd9-bf79-4996-a44f-e4a4f68b400a",
   "metadata": {},
   "outputs": [],
   "source": [
    "df3=pd.read_csv(url3)"
   ]
  },
  {
   "cell_type": "code",
   "execution_count": 54,
   "id": "2a9ebd45-80d9-469e-87a3-926075f35cd2",
   "metadata": {
    "scrolled": true
   },
   "outputs": [
    {
     "data": {
      "text/plain": [
       "unnamed:_0                         int64\n",
       "customer                          object\n",
       "state                             object\n",
       "customer_lifetime_value          float64\n",
       "response                          object\n",
       "coverage                          object\n",
       "education                         object\n",
       "effective_to_date                 object\n",
       "employmentstatus                  object\n",
       "gender                            object\n",
       "income                             int64\n",
       "location_code                     object\n",
       "marital_status                    object\n",
       "monthly_premium_auto               int64\n",
       "months_since_last_claim          float64\n",
       "months_since_policy_inception      int64\n",
       "number_of_open_complaints        float64\n",
       "number_of_policies                 int64\n",
       "policy_type                       object\n",
       "policy                            object\n",
       "renew_offer_type                  object\n",
       "sales_channel                     object\n",
       "total_claim_amount               float64\n",
       "vehicle_class                     object\n",
       "vehicle_size                      object\n",
       "vehicle_type                      object\n",
       "month                              int64\n",
       "dtype: object"
      ]
     },
     "execution_count": 54,
     "metadata": {},
     "output_type": "execute_result"
    }
   ],
   "source": [
    "df3.dtypes"
   ]
  },
  {
   "cell_type": "code",
   "execution_count": 55,
   "id": "87680e90-69e6-45eb-bd43-b75eb5eef7d8",
   "metadata": {},
   "outputs": [
    {
     "data": {
      "text/html": [
       "<div>\n",
       "<style scoped>\n",
       "    .dataframe tbody tr th:only-of-type {\n",
       "        vertical-align: middle;\n",
       "    }\n",
       "\n",
       "    .dataframe tbody tr th {\n",
       "        vertical-align: top;\n",
       "    }\n",
       "\n",
       "    .dataframe thead th {\n",
       "        text-align: right;\n",
       "    }\n",
       "</style>\n",
       "<table border=\"1\" class=\"dataframe\">\n",
       "  <thead>\n",
       "    <tr style=\"text-align: right;\">\n",
       "      <th></th>\n",
       "      <th>unnamed:_0</th>\n",
       "      <th>customer</th>\n",
       "      <th>state</th>\n",
       "      <th>customer_lifetime_value</th>\n",
       "      <th>response</th>\n",
       "      <th>coverage</th>\n",
       "      <th>education</th>\n",
       "      <th>effective_to_date</th>\n",
       "      <th>employmentstatus</th>\n",
       "      <th>gender</th>\n",
       "      <th>income</th>\n",
       "      <th>location_code</th>\n",
       "      <th>marital_status</th>\n",
       "      <th>monthly_premium_auto</th>\n",
       "      <th>months_since_last_claim</th>\n",
       "      <th>months_since_policy_inception</th>\n",
       "      <th>number_of_open_complaints</th>\n",
       "      <th>number_of_policies</th>\n",
       "      <th>policy_type</th>\n",
       "      <th>policy</th>\n",
       "      <th>renew_offer_type</th>\n",
       "      <th>sales_channel</th>\n",
       "      <th>total_claim_amount</th>\n",
       "      <th>vehicle_class</th>\n",
       "      <th>vehicle_size</th>\n",
       "      <th>vehicle_type</th>\n",
       "      <th>month</th>\n",
       "    </tr>\n",
       "  </thead>\n",
       "  <tbody>\n",
       "    <tr>\n",
       "      <th>339</th>\n",
       "      <td>339</td>\n",
       "      <td>CT51200</td>\n",
       "      <td>Oregon</td>\n",
       "      <td>5771.610372</td>\n",
       "      <td>No</td>\n",
       "      <td>Basic</td>\n",
       "      <td>High School or Below</td>\n",
       "      <td>2011-02-17</td>\n",
       "      <td>Employed</td>\n",
       "      <td>F</td>\n",
       "      <td>65709</td>\n",
       "      <td>Rural</td>\n",
       "      <td>Divorced</td>\n",
       "      <td>72</td>\n",
       "      <td>33.0</td>\n",
       "      <td>77</td>\n",
       "      <td>0.0</td>\n",
       "      <td>3</td>\n",
       "      <td>Corporate Auto</td>\n",
       "      <td>Corporate L3</td>\n",
       "      <td>Offer1</td>\n",
       "      <td>Web</td>\n",
       "      <td>12.945127</td>\n",
       "      <td>Four-Door Car</td>\n",
       "      <td>Medsize</td>\n",
       "      <td>A</td>\n",
       "      <td>2</td>\n",
       "    </tr>\n",
       "    <tr>\n",
       "      <th>5706</th>\n",
       "      <td>5706</td>\n",
       "      <td>JL15127</td>\n",
       "      <td>Nevada</td>\n",
       "      <td>9816.528302</td>\n",
       "      <td>Yes</td>\n",
       "      <td>Basic</td>\n",
       "      <td>College</td>\n",
       "      <td>2011-01-28</td>\n",
       "      <td>Employed</td>\n",
       "      <td>M</td>\n",
       "      <td>37256</td>\n",
       "      <td>Rural</td>\n",
       "      <td>Married</td>\n",
       "      <td>62</td>\n",
       "      <td>15.0</td>\n",
       "      <td>7</td>\n",
       "      <td>0.0</td>\n",
       "      <td>2</td>\n",
       "      <td>Personal Auto</td>\n",
       "      <td>Personal L3</td>\n",
       "      <td>Offer1</td>\n",
       "      <td>Branch</td>\n",
       "      <td>128.969729</td>\n",
       "      <td>Four-Door Car</td>\n",
       "      <td>Medsize</td>\n",
       "      <td>A</td>\n",
       "      <td>1</td>\n",
       "    </tr>\n",
       "    <tr>\n",
       "      <th>1929</th>\n",
       "      <td>1929</td>\n",
       "      <td>OO97388</td>\n",
       "      <td>Oregon</td>\n",
       "      <td>2855.687705</td>\n",
       "      <td>No</td>\n",
       "      <td>Basic</td>\n",
       "      <td>Master</td>\n",
       "      <td>2011-01-22</td>\n",
       "      <td>Employed</td>\n",
       "      <td>F</td>\n",
       "      <td>99612</td>\n",
       "      <td>Suburban</td>\n",
       "      <td>Married</td>\n",
       "      <td>70</td>\n",
       "      <td>14.0</td>\n",
       "      <td>20</td>\n",
       "      <td>0.0</td>\n",
       "      <td>1</td>\n",
       "      <td>Personal Auto</td>\n",
       "      <td>Personal L1</td>\n",
       "      <td>Offer2</td>\n",
       "      <td>Agent</td>\n",
       "      <td>336.000000</td>\n",
       "      <td>Two-Door Car</td>\n",
       "      <td>Small</td>\n",
       "      <td>A</td>\n",
       "      <td>1</td>\n",
       "    </tr>\n",
       "  </tbody>\n",
       "</table>\n",
       "</div>"
      ],
      "text/plain": [
       "      unnamed:_0 customer   state  customer_lifetime_value response coverage  \\\n",
       "339          339  CT51200  Oregon              5771.610372       No    Basic   \n",
       "5706        5706  JL15127  Nevada              9816.528302      Yes    Basic   \n",
       "1929        1929  OO97388  Oregon              2855.687705       No    Basic   \n",
       "\n",
       "                 education effective_to_date employmentstatus gender  income  \\\n",
       "339   High School or Below        2011-02-17         Employed      F   65709   \n",
       "5706               College        2011-01-28         Employed      M   37256   \n",
       "1929                Master        2011-01-22         Employed      F   99612   \n",
       "\n",
       "     location_code marital_status  monthly_premium_auto  \\\n",
       "339          Rural       Divorced                    72   \n",
       "5706         Rural        Married                    62   \n",
       "1929      Suburban        Married                    70   \n",
       "\n",
       "      months_since_last_claim  months_since_policy_inception  \\\n",
       "339                      33.0                             77   \n",
       "5706                     15.0                              7   \n",
       "1929                     14.0                             20   \n",
       "\n",
       "      number_of_open_complaints  number_of_policies     policy_type  \\\n",
       "339                         0.0                   3  Corporate Auto   \n",
       "5706                        0.0                   2   Personal Auto   \n",
       "1929                        0.0                   1   Personal Auto   \n",
       "\n",
       "            policy renew_offer_type sales_channel  total_claim_amount  \\\n",
       "339   Corporate L3           Offer1           Web           12.945127   \n",
       "5706   Personal L3           Offer1        Branch          128.969729   \n",
       "1929   Personal L1           Offer2         Agent          336.000000   \n",
       "\n",
       "      vehicle_class vehicle_size vehicle_type  month  \n",
       "339   Four-Door Car      Medsize            A      2  \n",
       "5706  Four-Door Car      Medsize            A      1  \n",
       "1929   Two-Door Car        Small            A      1  "
      ]
     },
     "execution_count": 55,
     "metadata": {},
     "output_type": "execute_result"
    }
   ],
   "source": [
    "df3.sample(3)"
   ]
  },
  {
   "cell_type": "code",
   "execution_count": 64,
   "id": "c350d6f0-0ca4-4861-8b8a-b43398ab88c5",
   "metadata": {},
   "outputs": [
    {
     "data": {
      "text/plain": [
       "array(['College', 'Bachelor', 'High School or Below', 'Doctor', 'Master'],\n",
       "      dtype=object)"
      ]
     },
     "execution_count": 64,
     "metadata": {},
     "output_type": "execute_result"
    }
   ],
   "source": [
    "df3['education'].unique()"
   ]
  },
  {
   "cell_type": "markdown",
   "id": "df35fd0d-513e-4e77-867e-429da10a9cc7",
   "metadata": {
    "id": "df35fd0d-513e-4e77-867e-429da10a9cc7"
   },
   "source": [
    "1. You work at the marketing department and you want to know which sales channel brought the most sales in terms of total revenue. Using pivot, create a summary table showing the total revenue for each sales channel (branch, call center, web, and mail).\n",
    "Round the total revenue to 2 decimal points.  Analyze the resulting table to draw insights."
   ]
  },
  {
   "cell_type": "code",
   "execution_count": 63,
   "id": "21f6cefe-d216-4c8b-9ef3-a7be69219f60",
   "metadata": {},
   "outputs": [
    {
     "data": {
      "text/html": [
       "<div>\n",
       "<style scoped>\n",
       "    .dataframe tbody tr th:only-of-type {\n",
       "        vertical-align: middle;\n",
       "    }\n",
       "\n",
       "    .dataframe tbody tr th {\n",
       "        vertical-align: top;\n",
       "    }\n",
       "\n",
       "    .dataframe thead th {\n",
       "        text-align: right;\n",
       "    }\n",
       "</style>\n",
       "<table border=\"1\" class=\"dataframe\">\n",
       "  <thead>\n",
       "    <tr style=\"text-align: right;\">\n",
       "      <th></th>\n",
       "      <th>customer_lifetime_value</th>\n",
       "    </tr>\n",
       "    <tr>\n",
       "      <th>sales_channel</th>\n",
       "      <th></th>\n",
       "    </tr>\n",
       "  </thead>\n",
       "  <tbody>\n",
       "    <tr>\n",
       "      <th>Agent</th>\n",
       "      <td>33057887.85</td>\n",
       "    </tr>\n",
       "    <tr>\n",
       "      <th>Branch</th>\n",
       "      <td>24359201.21</td>\n",
       "    </tr>\n",
       "    <tr>\n",
       "      <th>Call Center</th>\n",
       "      <td>17364288.37</td>\n",
       "    </tr>\n",
       "    <tr>\n",
       "      <th>Web</th>\n",
       "      <td>12697632.90</td>\n",
       "    </tr>\n",
       "  </tbody>\n",
       "</table>\n",
       "</div>"
      ],
      "text/plain": [
       "               customer_lifetime_value\n",
       "sales_channel                         \n",
       "Agent                      33057887.85\n",
       "Branch                     24359201.21\n",
       "Call Center                17364288.37\n",
       "Web                        12697632.90"
      ]
     },
     "execution_count": 63,
     "metadata": {},
     "output_type": "execute_result"
    }
   ],
   "source": [
    "pivot_df_channel_1 = round(df3.pivot_table(values='customer_lifetime_value', index='sales_channel', aggfunc='sum'),2)\n",
    "pivot_df_channel_1"
   ]
  },
  {
   "cell_type": "markdown",
   "id": "640993b2-a291-436c-a34d-a551144f8196",
   "metadata": {
    "id": "640993b2-a291-436c-a34d-a551144f8196"
   },
   "source": [
    "2. Create a pivot table that shows the average customer lifetime value per gender and education level. Analyze the resulting table to draw insights."
   ]
  },
  {
   "cell_type": "code",
   "execution_count": 69,
   "id": "e8b086d7-abfb-4db2-acdb-0bcbafc30bcc",
   "metadata": {},
   "outputs": [
    {
     "data": {
      "text/html": [
       "<div>\n",
       "<style scoped>\n",
       "    .dataframe tbody tr th:only-of-type {\n",
       "        vertical-align: middle;\n",
       "    }\n",
       "\n",
       "    .dataframe tbody tr th {\n",
       "        vertical-align: top;\n",
       "    }\n",
       "\n",
       "    .dataframe thead th {\n",
       "        text-align: right;\n",
       "    }\n",
       "</style>\n",
       "<table border=\"1\" class=\"dataframe\">\n",
       "  <thead>\n",
       "    <tr style=\"text-align: right;\">\n",
       "      <th></th>\n",
       "      <th></th>\n",
       "      <th>customer_lifetime_value</th>\n",
       "    </tr>\n",
       "    <tr>\n",
       "      <th>education</th>\n",
       "      <th>gender</th>\n",
       "      <th></th>\n",
       "    </tr>\n",
       "  </thead>\n",
       "  <tbody>\n",
       "    <tr>\n",
       "      <th rowspan=\"2\" valign=\"top\">Bachelor</th>\n",
       "      <th>F</th>\n",
       "      <td>7874.269478</td>\n",
       "    </tr>\n",
       "    <tr>\n",
       "      <th>M</th>\n",
       "      <td>7703.601675</td>\n",
       "    </tr>\n",
       "    <tr>\n",
       "      <th rowspan=\"2\" valign=\"top\">College</th>\n",
       "      <th>F</th>\n",
       "      <td>7748.823325</td>\n",
       "    </tr>\n",
       "    <tr>\n",
       "      <th>M</th>\n",
       "      <td>8052.459288</td>\n",
       "    </tr>\n",
       "    <tr>\n",
       "      <th rowspan=\"2\" valign=\"top\">Doctor</th>\n",
       "      <th>F</th>\n",
       "      <td>7328.508916</td>\n",
       "    </tr>\n",
       "    <tr>\n",
       "      <th>M</th>\n",
       "      <td>7415.333638</td>\n",
       "    </tr>\n",
       "    <tr>\n",
       "      <th rowspan=\"2\" valign=\"top\">High School or Below</th>\n",
       "      <th>F</th>\n",
       "      <td>8675.220201</td>\n",
       "    </tr>\n",
       "    <tr>\n",
       "      <th>M</th>\n",
       "      <td>8149.687783</td>\n",
       "    </tr>\n",
       "    <tr>\n",
       "      <th rowspan=\"2\" valign=\"top\">Master</th>\n",
       "      <th>F</th>\n",
       "      <td>8157.053154</td>\n",
       "    </tr>\n",
       "    <tr>\n",
       "      <th>M</th>\n",
       "      <td>8168.832659</td>\n",
       "    </tr>\n",
       "  </tbody>\n",
       "</table>\n",
       "</div>"
      ],
      "text/plain": [
       "                             customer_lifetime_value\n",
       "education            gender                         \n",
       "Bachelor             F                   7874.269478\n",
       "                     M                   7703.601675\n",
       "College              F                   7748.823325\n",
       "                     M                   8052.459288\n",
       "Doctor               F                   7328.508916\n",
       "                     M                   7415.333638\n",
       "High School or Below F                   8675.220201\n",
       "                     M                   8149.687783\n",
       "Master               F                   8157.053154\n",
       "                     M                   8168.832659"
      ]
     },
     "execution_count": 69,
     "metadata": {},
     "output_type": "execute_result"
    }
   ],
   "source": [
    "pivot_df_channel_2 = df3.pivot_table(values=\"customer_lifetime_value\", index=['education','gender',], aggfunc='mean')\n",
    "pivot_df_channel_2"
   ]
  },
  {
   "cell_type": "markdown",
   "id": "32c7f2e5-3d90-43e5-be33-9781b6069198",
   "metadata": {
    "id": "32c7f2e5-3d90-43e5-be33-9781b6069198"
   },
   "source": [
    "## Bonus\n",
    "\n",
    "You work at the customer service department and you want to know which months had the highest number of complaints by policy type category. Create a summary table showing the number of complaints by policy type and month.\n",
    "Show it in a long format table."
   ]
  },
  {
   "cell_type": "markdown",
   "id": "e3d09a8f-953c-448a-a5f8-2e5a8cca7291",
   "metadata": {
    "id": "e3d09a8f-953c-448a-a5f8-2e5a8cca7291"
   },
   "source": [
    "*In data analysis, a long format table is a way of structuring data in which each observation or measurement is stored in a separate row of the table. The key characteristic of a long format table is that each column represents a single variable, and each row represents a single observation of that variable.*\n",
    "\n",
    "*More information about long and wide format tables here: https://www.statology.org/long-vs-wide-data/*"
   ]
  },
  {
   "cell_type": "code",
   "execution_count": 70,
   "id": "3a069e0b-b400-470e-904d-d17582191be4",
   "metadata": {
    "id": "3a069e0b-b400-470e-904d-d17582191be4"
   },
   "outputs": [
    {
     "data": {
      "text/html": [
       "<div>\n",
       "<style scoped>\n",
       "    .dataframe tbody tr th:only-of-type {\n",
       "        vertical-align: middle;\n",
       "    }\n",
       "\n",
       "    .dataframe tbody tr th {\n",
       "        vertical-align: top;\n",
       "    }\n",
       "\n",
       "    .dataframe thead th {\n",
       "        text-align: right;\n",
       "    }\n",
       "</style>\n",
       "<table border=\"1\" class=\"dataframe\">\n",
       "  <thead>\n",
       "    <tr style=\"text-align: right;\">\n",
       "      <th></th>\n",
       "      <th></th>\n",
       "      <th>number_of_open_complaints</th>\n",
       "    </tr>\n",
       "    <tr>\n",
       "      <th>policy_type</th>\n",
       "      <th>month</th>\n",
       "      <th></th>\n",
       "    </tr>\n",
       "  </thead>\n",
       "  <tbody>\n",
       "    <tr>\n",
       "      <th rowspan=\"2\" valign=\"top\">Corporate Auto</th>\n",
       "      <th>1</th>\n",
       "      <td>1252</td>\n",
       "    </tr>\n",
       "    <tr>\n",
       "      <th>2</th>\n",
       "      <td>1089</td>\n",
       "    </tr>\n",
       "    <tr>\n",
       "      <th rowspan=\"2\" valign=\"top\">Personal Auto</th>\n",
       "      <th>1</th>\n",
       "      <td>4329</td>\n",
       "    </tr>\n",
       "    <tr>\n",
       "      <th>2</th>\n",
       "      <td>3799</td>\n",
       "    </tr>\n",
       "    <tr>\n",
       "      <th rowspan=\"2\" valign=\"top\">Special Auto</th>\n",
       "      <th>1</th>\n",
       "      <td>237</td>\n",
       "    </tr>\n",
       "    <tr>\n",
       "      <th>2</th>\n",
       "      <td>204</td>\n",
       "    </tr>\n",
       "  </tbody>\n",
       "</table>\n",
       "</div>"
      ],
      "text/plain": [
       "                      number_of_open_complaints\n",
       "policy_type    month                           \n",
       "Corporate Auto 1                           1252\n",
       "               2                           1089\n",
       "Personal Auto  1                           4329\n",
       "               2                           3799\n",
       "Special Auto   1                            237\n",
       "               2                            204"
      ]
     },
     "execution_count": 70,
     "metadata": {},
     "output_type": "execute_result"
    }
   ],
   "source": [
    "pivot_df3 = df3.pivot_table(values=\"number_of_open_complaints\", index=['policy_type','month',], aggfunc='count')\n",
    "pivot_df3"
   ]
  },
  {
   "cell_type": "code",
   "execution_count": null,
   "id": "a62198eb-fda8-4064-ad9a-c2e626755544",
   "metadata": {},
   "outputs": [],
   "source": []
  }
 ],
 "metadata": {
  "colab": {
   "provenance": []
  },
  "kernelspec": {
   "display_name": "Python 3 (ipykernel)",
   "language": "python",
   "name": "python3"
  },
  "language_info": {
   "codemirror_mode": {
    "name": "ipython",
    "version": 3
   },
   "file_extension": ".py",
   "mimetype": "text/x-python",
   "name": "python",
   "nbconvert_exporter": "python",
   "pygments_lexer": "ipython3",
   "version": "3.11.7"
  }
 },
 "nbformat": 4,
 "nbformat_minor": 5
}
